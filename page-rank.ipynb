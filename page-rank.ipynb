{
 "cells": [
  {
   "cell_type": "code",
   "execution_count": null,
   "metadata": {},
   "outputs": [],
   "source": [
    "## importing numpy for matrix operations\n",
    "import numpy as np \n",
    "## Link vectors\n",
    "## la = [0 1/3 1/3 1/3]\n",
    "## Lb = [1/2 0 0 1/2]\n",
    "## Lc = [0 0 0 1]\n",
    "## Ld = [0 1/2 1/2 0]\n",
    "## the corresponding link matrix will be \n",
    "L = np.array([[0,1/2,0,0], [1/3, 0, 0, 1/2], [1/3, 0, 0, 1/2], [1/3, 1/2, 1, 0]])\n",
    "## Rank Matrix by considering that equal probability of visiting any page\n",
    "r = np.array([1/4,1/4,1/4,1/4])\n",
    "print(\"i A B C D\") ## Print the link vector\n",
    "## Looping over Link matrix And Rank vector.\n",
    "for i in range(30):\n",
    " print(i, round(r[0],2), round(r[1], 2), round(r[2], 2), round(r[3],      2))\n",
    " r = L@r"
   ]
  }
 ],
 "metadata": {
  "language_info": {
   "name": "python"
  },
  "orig_nbformat": 4
 },
 "nbformat": 4,
 "nbformat_minor": 2
}
